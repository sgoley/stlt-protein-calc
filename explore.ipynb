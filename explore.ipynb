{
 "cells": [
  {
   "cell_type": "code",
   "execution_count": null,
   "metadata": {},
   "outputs": [
    {
     "ename": "",
     "evalue": "",
     "output_type": "error",
     "traceback": [
      "\u001b[1;31mFailed to start the Kernel. \n",
      "\u001b[1;31mThe kernel died. Error: ... View Jupyter <a href='command:jupyter.viewOutput'>log</a> for further details."
     ]
    }
   ],
   "source": [
    "# imports\n",
    "import streamlit as st\n",
    "import pandas as pd\n",
    "\n",
    "# data import\n",
    "importdf = pd.read_csv(\"data/Protein CSV.csv\")"
   ]
  },
  {
   "cell_type": "code",
   "execution_count": null,
   "metadata": {},
   "outputs": [
    {
     "ename": "",
     "evalue": "",
     "output_type": "error",
     "traceback": [
      "\u001b[1;31mFailed to start the Kernel. \n",
      "\u001b[1;31mThe kernel died. Error: ... View Jupyter <a href='command:jupyter.viewOutput'>log</a> for further details."
     ]
    }
   ],
   "source": [
    "#inputs\n",
    "option_sex = 'Male'\n",
    "option_weight = 180"
   ]
  },
  {
   "cell_type": "code",
   "execution_count": null,
   "metadata": {},
   "outputs": [
    {
     "ename": "",
     "evalue": "",
     "output_type": "error",
     "traceback": [
      "\u001b[1;31mFailed to start the Kernel. \n",
      "\u001b[1;31mThe kernel died. Error: ... View Jupyter <a href='command:jupyter.viewOutput'>log</a> for further details."
     ]
    }
   ],
   "source": [
    "# calcs based on inputs\n",
    "\n",
    "weight_lb = option_weight\n",
    "\n",
    "if option_sex == \"Male\":\n",
    "    weight_lb = weight_lb\n",
    "else:\n",
    "    weight_lb = weight_lb * 0.85\n",
    "\n",
    "weight_kg = weight_lb / 2.2046\n",
    "min_daily_g = round(0.36 * weight_lb, 1)\n",
    "low_daily_g = round(1.2 * weight_kg, 1)\n",
    "high_daily_g = round(1.7 * weight_kg, 1)\n"
   ]
  },
  {
   "cell_type": "code",
   "execution_count": null,
   "metadata": {},
   "outputs": [],
   "source": [
    "# table calcs\n",
    "example_foods = [\n",
    "    \"Costco Chicken breast (boneless skinless)\",\n",
    "    \"Ground Turkey\",\n",
    "    \"Cod Fillet\",\n",
    "    \"Canned Albacore no salt\",\n",
    "    \"Portabello mushrooms\",\n",
    "    \"Optimum Nutrition Gold Standard Whey Protein Powder\",\n",
    "]\n",
    "\n",
    "portion_df = pd.DataFrame()\n",
    "\n",
    "for food in example_foods:\n",
    "    portion_df\n",
    "    portion_df = importdf.loc[importdf[\"Item\"] == food]\n",
    "\n",
    "# portion_df = importdf.loc[importdf[\"Item\"].isin(example_foods)].reset_index()\n",
    "# portion_df = portion_df.drop(\"index\", axis=1)\n",
    "\n",
    "# print(portion_df)"
   ]
  }
 ],
 "metadata": {
  "kernelspec": {
   "display_name": ".venv",
   "language": "python",
   "name": "python3"
  },
  "language_info": {
   "name": "python",
   "version": "3.9.12"
  }
 },
 "nbformat": 4,
 "nbformat_minor": 2
}
